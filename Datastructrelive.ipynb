{
  "nbformat": 4,
  "nbformat_minor": 0,
  "metadata": {
    "colab": {
      "provenance": []
    },
    "kernelspec": {
      "name": "python3",
      "display_name": "Python 3"
    },
    "language_info": {
      "name": "python"
    }
  },
  "cells": [
    {
      "cell_type": "code",
      "execution_count": 1,
      "metadata": {
        "colab": {
          "base_uri": "https://localhost:8080/",
          "height": 36
        },
        "id": "IDFDiyn6uXcj",
        "outputId": "04b2d4dc-bf76-47d6-c551-665edb0b5774"
      },
      "outputs": [
        {
          "output_type": "execute_result",
          "data": {
            "text/plain": [
              "'slliksWP'"
            ],
            "application/vnd.google.colaboratory.intrinsic+json": {
              "type": "string"
            }
          },
          "metadata": {},
          "execution_count": 1
        }
      ],
      "source": [
        "# Q1)Write a code to reverse a string\n",
        "st=\"PWskills\"\n",
        "st[::-1]"
      ]
    },
    {
      "cell_type": "code",
      "source": [
        "# Q2) Write a code to count the number of vowels in a string\n",
        "# Input string\n",
        "input_string = \"This is an example string.\"\n",
        "\n",
        "# Initialize vowel count\n",
        "vowel_count = 0\n",
        "\n",
        "# List of vowels\n",
        "vowels = \"aeiouAEIOU\"\n",
        "\n",
        "# Iterate over each character in the string\n",
        "for char in input_string:\n",
        "    # Check if the character is a vowel\n",
        "    if char in vowels:\n",
        "        # Increment the vowel count\n",
        "        vowel_count += 1\n",
        "\n",
        "# Print the number of vowels\n",
        "print(\"Number of vowels:\", vowel_count)"
      ],
      "metadata": {
        "colab": {
          "base_uri": "https://localhost:8080/"
        },
        "id": "curVfRJ_wjNG",
        "outputId": "e53342b6-158a-45d8-a826-c41290872020"
      },
      "execution_count": 2,
      "outputs": [
        {
          "output_type": "stream",
          "name": "stdout",
          "text": [
            "Number of vowels: 7\n"
          ]
        }
      ]
    },
    {
      "cell_type": "code",
      "source": [
        "# Q3)Write a code to check if a given string is a palindrome or not.\n",
        "st=\"PWskills\"\n",
        "result=st[::-1]\n",
        "if st==result:\n",
        "    print(\"Given string is palindrome\")\n",
        "else:\n",
        "    print(\"Given string is not palindrome\")"
      ],
      "metadata": {
        "colab": {
          "base_uri": "https://localhost:8080/"
        },
        "id": "sk1Cilq1wot1",
        "outputId": "7709ea5f-448b-4fac-9f54-2277c2e0ef78"
      },
      "execution_count": 3,
      "outputs": [
        {
          "output_type": "stream",
          "name": "stdout",
          "text": [
            "Given string is not palindrome\n"
          ]
        }
      ]
    },
    {
      "cell_type": "code",
      "source": [
        "st=\"141\"\n",
        "result=st[::-1]\n",
        "if st==result:\n",
        "    print(\"Given string is palindrome\")\n",
        "else:\n",
        "    print(\"Given string is not palindrome\")"
      ],
      "metadata": {
        "colab": {
          "base_uri": "https://localhost:8080/"
        },
        "id": "K_cUbuamwuA8",
        "outputId": "012695cd-8339-4f65-f063-5fd31382345f"
      },
      "execution_count": 4,
      "outputs": [
        {
          "output_type": "stream",
          "name": "stdout",
          "text": [
            "Given string is palindrome\n"
          ]
        }
      ]
    },
    {
      "cell_type": "code",
      "source": [
        "# Q4) Write a code to check if two given strings are anagrams of each other.\n",
        "st1=\"PWskills\"\n",
        "st2=\"Sushil\"\n",
        "result1= sorted(st1)\n",
        "result2= sorted(st2)\n",
        "if result1==result2:\n",
        "    print(\"Given string is anagrams of each other\")\n",
        "else:\n",
        "    print(\"Given string is not anagrams of each other\")"
      ],
      "metadata": {
        "colab": {
          "base_uri": "https://localhost:8080/"
        },
        "id": "UvOeGXtHwyEW",
        "outputId": "77983131-d92c-4f35-b914-f40ef3f6d2e5"
      },
      "execution_count": 40,
      "outputs": [
        {
          "output_type": "stream",
          "name": "stdout",
          "text": [
            "Given string is not anagrams of each other\n"
          ]
        }
      ]
    },
    {
      "cell_type": "code",
      "source": [
        "st1=\"PWskills\"\n",
        "st2=\"PWskills\"\n",
        "result1= sorted(st1)\n",
        "result2= sorted(st2)\n",
        "if result1==result2:\n",
        "    print(\"Given string is anagrams of each other\")\n",
        "else:\n",
        "    print(\"Given string is not anagrams of each other\")"
      ],
      "metadata": {
        "colab": {
          "base_uri": "https://localhost:8080/"
        },
        "id": "DTXv9ukiw1F2",
        "outputId": "05a49f1b-20a6-44bc-c2d5-7d5fa0cce29f"
      },
      "execution_count": 6,
      "outputs": [
        {
          "output_type": "stream",
          "name": "stdout",
          "text": [
            "Given string is anagrams of each other\n"
          ]
        }
      ]
    },
    {
      "cell_type": "code",
      "source": [
        "# Q5)Write a code to find all occurrences of a given substring within another string.\n",
        "import re\n",
        "def find_all_occurrences_re(string, substring):\n",
        "    matches = re.finditer(re.escape(substring), string)\n",
        "    occurrences = [match.start() for match in matches]\n",
        "    return occurrences\n",
        "\n",
        "# Example usage\n",
        "string = \"This is a test string for testing substring occurrences in a string test.\"\n",
        "substring = \"test\"\n",
        "print(find_all_occurrences_re(string, substring))"
      ],
      "metadata": {
        "colab": {
          "base_uri": "https://localhost:8080/"
        },
        "id": "4Wz0gVRZw5UE",
        "outputId": "dcd64c90-5ad2-4c26-8b61-3083f6cf52b5"
      },
      "execution_count": 7,
      "outputs": [
        {
          "output_type": "stream",
          "name": "stdout",
          "text": [
            "[10, 26, 68]\n"
          ]
        }
      ]
    },
    {
      "cell_type": "code",
      "source": [
        "# Q6) Write a code to perform basic string compression using the counts of repeated characters.\n",
        "# Input string\n",
        "input_string = \"aaabbccccdaa\"\n",
        "\n",
        "# Initialize an empty result string\n",
        "compressed_string = \"\"\n",
        "\n",
        "# Initialize count for repeated characters\n",
        "count = 1\n",
        "\n",
        "# Iterate through the string\n",
        "for i in range(1, len(input_string)):\n",
        "    # Check if the current character is the same as the previous one\n",
        "    if input_string[i] == input_string[i - 1]:\n",
        "        count += 1\n",
        "    else:\n",
        "        # Append the previous character and its count to the result\n",
        "        compressed_string += input_string[i - 1] + str(count)\n",
        "        # Reset count for the new character\n",
        "        count = 1\n",
        "\n",
        "# Append the last character and its count\n",
        "compressed_string += input_string[-1] + str(count)\n",
        "\n",
        "# Print the compressed string\n",
        "print(\"Compressed string:\", compressed_string)"
      ],
      "metadata": {
        "colab": {
          "base_uri": "https://localhost:8080/"
        },
        "id": "tHGhEdf7w8HE",
        "outputId": "9d9083da-ecc1-43f2-ccf9-e1245f845851"
      },
      "execution_count": 8,
      "outputs": [
        {
          "output_type": "stream",
          "name": "stdout",
          "text": [
            "Compressed string: a3b2c4d1a2\n"
          ]
        }
      ]
    },
    {
      "cell_type": "code",
      "source": [
        "# Q7) Write a code to determine if a string has all unique characters.\n",
        "# Input string\n",
        "input_string = \"PWskills\"\n",
        "\n",
        "# Convert the input string to a set to get unique characters\n",
        "unique_characters = set(input_string)\n",
        "\n",
        "# Check if the length of the set is equal to the length of the input string\n",
        "if len(unique_characters) == len(input_string):\n",
        "    print(\"The string has all unique characters.\")\n",
        "else:\n",
        "    print(\"The string does not have all unique characters.\")"
      ],
      "metadata": {
        "colab": {
          "base_uri": "https://localhost:8080/"
        },
        "id": "Pfge1voFw-pu",
        "outputId": "23d4f0c4-bbd6-4665-b938-d76d24117f12"
      },
      "execution_count": 9,
      "outputs": [
        {
          "output_type": "stream",
          "name": "stdout",
          "text": [
            "The string does not have all unique characters.\n"
          ]
        }
      ]
    },
    {
      "cell_type": "code",
      "source": [
        "# Q8) Write a code to convert a given string to uppercase or lowercase.\n",
        "# Uppercase\n",
        "st=\"PWskills\"\n",
        "st.upper()"
      ],
      "metadata": {
        "colab": {
          "base_uri": "https://localhost:8080/",
          "height": 36
        },
        "id": "4tX3sLepxDFl",
        "outputId": "79a5314e-ddce-44c6-eb53-fdb76aca90e9"
      },
      "execution_count": 10,
      "outputs": [
        {
          "output_type": "execute_result",
          "data": {
            "text/plain": [
              "'PWSKILLS'"
            ],
            "application/vnd.google.colaboratory.intrinsic+json": {
              "type": "string"
            }
          },
          "metadata": {},
          "execution_count": 10
        }
      ]
    },
    {
      "cell_type": "code",
      "source": [
        "# Lowercase\n",
        "st.lower()"
      ],
      "metadata": {
        "colab": {
          "base_uri": "https://localhost:8080/",
          "height": 36
        },
        "id": "CtaFdVz0xHTY",
        "outputId": "1659d42c-58b9-4324-8da7-488d3e4b8c92"
      },
      "execution_count": 11,
      "outputs": [
        {
          "output_type": "execute_result",
          "data": {
            "text/plain": [
              "'pwskills'"
            ],
            "application/vnd.google.colaboratory.intrinsic+json": {
              "type": "string"
            }
          },
          "metadata": {},
          "execution_count": 11
        }
      ]
    },
    {
      "cell_type": "code",
      "source": [
        "# Q9) Write a code to count the number of words in a string.\n",
        "st=\"Hello, PWskills\"\n",
        "word=st.split()\n",
        "len(word)"
      ],
      "metadata": {
        "colab": {
          "base_uri": "https://localhost:8080/"
        },
        "id": "9yRXjEDVxLxu",
        "outputId": "8826e907-d812-4336-b37e-a6caf24928a9"
      },
      "execution_count": 12,
      "outputs": [
        {
          "output_type": "execute_result",
          "data": {
            "text/plain": [
              "2"
            ]
          },
          "metadata": {},
          "execution_count": 12
        }
      ]
    },
    {
      "cell_type": "code",
      "source": [
        "# Q10) Write a code to concatenate two strings without using the + operator.\n",
        "st1=\"Hello\"\n",
        "st2=\"PWskills\"\n",
        "result= \" \".join([st1, st2])\n",
        "result"
      ],
      "metadata": {
        "colab": {
          "base_uri": "https://localhost:8080/",
          "height": 36
        },
        "id": "LKR-Sec5xOXC",
        "outputId": "86cdf435-1628-4af9-d929-f746cdc01895"
      },
      "execution_count": 13,
      "outputs": [
        {
          "output_type": "execute_result",
          "data": {
            "text/plain": [
              "'Hello PWskills'"
            ],
            "application/vnd.google.colaboratory.intrinsic+json": {
              "type": "string"
            }
          },
          "metadata": {},
          "execution_count": 13
        }
      ]
    },
    {
      "cell_type": "code",
      "source": [
        "# Q11) Write a code to remove all occurrences of a specific element from a list.\n",
        "def remove_all_occurrences(lst, element):\n",
        "    # Create a new list with all elements except the specified one\n",
        "    return [x for x in lst if x != element]\n",
        "\n",
        "# Example usage\n",
        "my_list = [1, 2, 3, 4, 2, 5, 2, 6]\n",
        "element_to_remove = 2\n",
        "new_list = remove_all_occurrences(my_list, element_to_remove)\n",
        "print(\"List after removal:\", new_list)"
      ],
      "metadata": {
        "colab": {
          "base_uri": "https://localhost:8080/"
        },
        "id": "mzc3WO32xUEu",
        "outputId": "0c0b57a4-742f-42d4-d994-67b0d5977f82"
      },
      "execution_count": 14,
      "outputs": [
        {
          "output_type": "stream",
          "name": "stdout",
          "text": [
            "List after removal: [1, 3, 4, 5, 6]\n"
          ]
        }
      ]
    },
    {
      "cell_type": "code",
      "source": [
        "# Q12) Implement a code to find the second largest number in a given list of integers.\n",
        "def find_second_largest(numbers):\n",
        "    # Remove duplicates by converting the list to a set\n",
        "    unique_numbers = set(numbers)\n",
        "\n",
        "    # Check if there are at least two unique numbers\n",
        "    if len(unique_numbers) < 2:\n",
        "        return None  # Return None if there's no second largest number\n",
        "\n",
        "    # Convert the set back to a list and sort it\n",
        "    sorted_numbers = sorted(unique_numbers, reverse=True)\n",
        "\n",
        "    # Return the second largest number\n",
        "    return sorted_numbers[1]\n",
        "\n",
        "# Example usage\n",
        "numbers = [4, 1, 5, 2, 3, 5, 4]\n",
        "second_largest = find_second_largest(numbers)\n",
        "if second_largest is not None:\n",
        "    print(\"The second largest number is:\", second_largest)\n",
        "else:\n",
        "    print(\"There is no second largest number.\")"
      ],
      "metadata": {
        "colab": {
          "base_uri": "https://localhost:8080/"
        },
        "id": "nH1vpbRexW5n",
        "outputId": "2e1ceaae-765c-41ae-eb84-34ea861e2c75"
      },
      "execution_count": 15,
      "outputs": [
        {
          "output_type": "stream",
          "name": "stdout",
          "text": [
            "The second largest number is: 4\n"
          ]
        }
      ]
    },
    {
      "cell_type": "code",
      "source": [
        "# Q13) Create a code to count the occurrences of each element in a list and return a dictionary with elements as keys and their counts as values in python.\n",
        "def count_occurrences_manual(lst):\n",
        "    # Initialize an empty dictionary\n",
        "    counts = {}\n",
        "\n",
        "    # Iterate through each element in the list\n",
        "    for element in lst:\n",
        "        # If the element is already in the dictionary, increment its count\n",
        "        if element in counts:\n",
        "            counts[element] += 1\n",
        "        # If the element is not in the dictionary, add it with a count of 1\n",
        "        else:\n",
        "            counts[element] = 1\n",
        "\n",
        "    return counts\n",
        "\n",
        "# Example usage\n",
        "my_list = [1, 2, 2, 3, 4, 4, 4, 5]\n",
        "occurrences_manual = count_occurrences_manual(my_list)\n",
        "print(\"Occurrences using manual method:\", occurrences_manual)"
      ],
      "metadata": {
        "colab": {
          "base_uri": "https://localhost:8080/"
        },
        "id": "Oqmx975ExaRj",
        "outputId": "2e9f8284-ccab-4bf5-86b8-c79e038c77d0"
      },
      "execution_count": 16,
      "outputs": [
        {
          "output_type": "stream",
          "name": "stdout",
          "text": [
            "Occurrences using manual method: {1: 1, 2: 2, 3: 1, 4: 3, 5: 1}\n"
          ]
        }
      ]
    },
    {
      "cell_type": "code",
      "source": [
        "# Q14) Write a code to reverse a list in-place without using any built-in reverse functions.\n",
        "li=[1,2,3,4,5,6,7]\n",
        "result=li[::-1]\n",
        "result"
      ],
      "metadata": {
        "colab": {
          "base_uri": "https://localhost:8080/"
        },
        "id": "uwU_q0yFxeLj",
        "outputId": "8be27431-11de-46c3-caa5-76adda61815e"
      },
      "execution_count": 17,
      "outputs": [
        {
          "output_type": "execute_result",
          "data": {
            "text/plain": [
              "[7, 6, 5, 4, 3, 2, 1]"
            ]
          },
          "metadata": {},
          "execution_count": 17
        }
      ]
    },
    {
      "cell_type": "code",
      "source": [
        "# Q15) Implement a code to find and remove duplicates from a list while preserving the original order of elements.\n",
        "# Define the list with potential duplicates\n",
        "original_list = [1, 2, 2, 3, 4, 4, 5, 6, 6, 7]\n",
        "\n",
        "# Initialize an empty list to store unique elements\n",
        "unique_list = []\n",
        "\n",
        "# Initialize a set to keep track of seen elements\n",
        "seen = set()\n",
        "\n",
        "# Iterate over each element in the original list\n",
        "for element in original_list:\n",
        "    # If the element is not in the seen set, it is unique\n",
        "    if element not in seen:\n",
        "        # Add the element to the unique list\n",
        "        unique_list.append(element)\n",
        "        # Mark the element as seen\n",
        "        seen.add(element)\n",
        "\n",
        "# Print the list without duplicates\n",
        "print(\"List without duplicates:\", unique_list)"
      ],
      "metadata": {
        "colab": {
          "base_uri": "https://localhost:8080/"
        },
        "id": "XhYTLOlQxg8E",
        "outputId": "b11e2ed0-7b47-4a43-9a96-5ecafa32ccc8"
      },
      "execution_count": 18,
      "outputs": [
        {
          "output_type": "stream",
          "name": "stdout",
          "text": [
            "List without duplicates: [1, 2, 3, 4, 5, 6, 7]\n"
          ]
        }
      ]
    },
    {
      "cell_type": "code",
      "source": [
        "# Q16) Create a code to check if a given list is sorted (either in ascending or descending order) or not.\n",
        "# Sample list\n",
        "my_list = [1, 2, 3, 4, 5]\n",
        "\n",
        "# Initialize variables to track sorting order\n",
        "is_ascending = True\n",
        "is_descending = True\n",
        "\n",
        "# Iterate over the list to check sorting order\n",
        "for i in range(len(my_list) - 1):\n",
        "    if my_list[i] < my_list[i + 1]:\n",
        "        is_descending = False\n",
        "    elif my_list[i] > my_list[i + 1]:\n",
        "        is_ascending = False\n",
        "\n",
        "# Determine and print the sorting order\n",
        "if is_ascending:\n",
        "    print(\"The list is sorted in ascending order.\")\n",
        "elif is_descending:\n",
        "    print(\"The list is sorted in descending order.\")\n",
        "else:\n",
        "    print(\"The list is not sorted.\")"
      ],
      "metadata": {
        "colab": {
          "base_uri": "https://localhost:8080/"
        },
        "id": "Z4TlraF-xkrf",
        "outputId": "4f7d112e-b7cb-42ea-9710-41e9291a1602"
      },
      "execution_count": 19,
      "outputs": [
        {
          "output_type": "stream",
          "name": "stdout",
          "text": [
            "The list is sorted in ascending order.\n"
          ]
        }
      ]
    },
    {
      "cell_type": "code",
      "source": [
        "# Q17) Write a code to merge two sorted lists into a single sorted list.\n",
        "# Two sorted lists\n",
        "list1 = [1, 3, 5, 7]\n",
        "list2 = [2, 4, 6, 8]\n",
        "\n",
        "# Initialize pointers for both lists\n",
        "i, j = 0, 0\n",
        "\n",
        "# Initialize the result list for the merged output\n",
        "merged_list = []\n",
        "\n",
        "# Iterate over both lists and merge them\n",
        "while i < len(list1) and j < len(list2):\n",
        "    if list1[i] < list2[j]:\n",
        "        # If the current element of list1 is smaller, add it to the merged list\n",
        "        merged_list.append(list1[i])\n",
        "        i += 1\n",
        "    else:\n",
        "        # If the current element of list2 is smaller or equal, add it to the merged list\n",
        "        merged_list.append(list2[j])\n",
        "        j += 1\n",
        "\n",
        "# If there are remaining elements in list1, add them to the merged list\n",
        "while i < len(list1):\n",
        "    merged_list.append(list1[i])\n",
        "    i += 1\n",
        "\n",
        "# If there are remaining elements in list2, add them to the merged list\n",
        "while j < len(list2):\n",
        "    merged_list.append(list2[j])\n",
        "    j += 1\n",
        "\n",
        "# Print the merged sorted list\n",
        "print(\"Merged sorted list:\", merged_list)"
      ],
      "metadata": {
        "colab": {
          "base_uri": "https://localhost:8080/"
        },
        "id": "0ERGdqwQxqNt",
        "outputId": "fe4fa0c8-b53d-4a84-c615-312d8bec1faf"
      },
      "execution_count": 20,
      "outputs": [
        {
          "output_type": "stream",
          "name": "stdout",
          "text": [
            "Merged sorted list: [1, 2, 3, 4, 5, 6, 7, 8]\n"
          ]
        }
      ]
    },
    {
      "cell_type": "code",
      "source": [
        "# Q18)  Implement a code to find the intersection of two given lists.\n",
        "li1=[1,2,3,4,6]\n",
        "li2=[8,6,2,5,7]\n",
        "print(li1,li2)\n",
        "set1= set(li1)\n",
        "set2= set(li2)\n",
        "print(set1,set2)\n",
        "set1.intersection(set2)"
      ],
      "metadata": {
        "colab": {
          "base_uri": "https://localhost:8080/"
        },
        "id": "pS3i4VX4xtrY",
        "outputId": "6b262400-498f-4434-dec6-cd0fc5c48be2"
      },
      "execution_count": 21,
      "outputs": [
        {
          "output_type": "stream",
          "name": "stdout",
          "text": [
            "[1, 2, 3, 4, 6] [8, 6, 2, 5, 7]\n",
            "{1, 2, 3, 4, 6} {2, 5, 6, 7, 8}\n"
          ]
        },
        {
          "output_type": "execute_result",
          "data": {
            "text/plain": [
              "{2, 6}"
            ]
          },
          "metadata": {},
          "execution_count": 21
        }
      ]
    },
    {
      "cell_type": "code",
      "source": [
        "# Q19) Create a code to find the union of two lists without duplicates.\n",
        "li1=[1,2,2,3,3,3,4]\n",
        "li2=[5,6,6,7,7,7,8]\n",
        "print(li1,li2)\n",
        "set1=set(li1)\n",
        "set2=set(li2)\n",
        "print(set1,set2)\n",
        "set1.union(set2)"
      ],
      "metadata": {
        "colab": {
          "base_uri": "https://localhost:8080/"
        },
        "id": "KEes2od5x0tP",
        "outputId": "4185e0d1-7d42-431f-af5b-0e9e7013ed4d"
      },
      "execution_count": 22,
      "outputs": [
        {
          "output_type": "stream",
          "name": "stdout",
          "text": [
            "[1, 2, 2, 3, 3, 3, 4] [5, 6, 6, 7, 7, 7, 8]\n",
            "{1, 2, 3, 4} {8, 5, 6, 7}\n"
          ]
        },
        {
          "output_type": "execute_result",
          "data": {
            "text/plain": [
              "{1, 2, 3, 4, 5, 6, 7, 8}"
            ]
          },
          "metadata": {},
          "execution_count": 22
        }
      ]
    },
    {
      "cell_type": "code",
      "source": [
        "# Q20)  Write a code to shuffle a given list randomly without using any built-in shuffle functions.\n",
        "import random\n",
        "\n",
        "def fisher_yates_shuffle(lst):\n",
        "    # Get the length of the list\n",
        "    n = len(lst)\n",
        "\n",
        "    # Go through the list in reverse order\n",
        "    for i in range(n - 1, 0, -1):\n",
        "        # Generate a random index from 0 to i\n",
        "        j = random.randint(0, i)\n",
        "\n",
        "        # Swap the elements at index i and j\n",
        "        lst[i], lst[j] = lst[j], lst[i]\n",
        "\n",
        "    return lst\n",
        "\n",
        "# Example usage\n",
        "my_list = [1, 2, 3, 4, 5]\n",
        "shuffled_list = fisher_yates_shuffle(my_list)\n",
        "print(shuffled_list)"
      ],
      "metadata": {
        "colab": {
          "base_uri": "https://localhost:8080/"
        },
        "id": "Wq7QaOKux3gg",
        "outputId": "86146967-69a7-4ce3-9b61-2a1560e10551"
      },
      "execution_count": 23,
      "outputs": [
        {
          "output_type": "stream",
          "name": "stdout",
          "text": [
            "[5, 3, 1, 2, 4]\n"
          ]
        }
      ]
    },
    {
      "cell_type": "code",
      "source": [
        "# Q21) Write a code that takes two tuples as input and returns a new tuple containing elements that are common to both input tuples\n",
        "tup1=(1,2,8,9,5)\n",
        "tup2=(8,9,10,2,1)\n",
        "print(tup1,tup2)\n",
        "set1=set(tup1)\n",
        "set2=set(tup2)\n",
        "print(set1,set2)\n",
        "common_elements=set1.intersection(set2)\n",
        "common_elements"
      ],
      "metadata": {
        "colab": {
          "base_uri": "https://localhost:8080/"
        },
        "id": "ujKdaxA2x6t3",
        "outputId": "6b420bed-8e80-4de5-b9e3-f963e553ce7a"
      },
      "execution_count": 24,
      "outputs": [
        {
          "output_type": "stream",
          "name": "stdout",
          "text": [
            "(1, 2, 8, 9, 5) (8, 9, 10, 2, 1)\n",
            "{1, 2, 5, 8, 9} {1, 2, 8, 9, 10}\n"
          ]
        },
        {
          "output_type": "execute_result",
          "data": {
            "text/plain": [
              "{1, 2, 8, 9}"
            ]
          },
          "metadata": {},
          "execution_count": 24
        }
      ]
    },
    {
      "cell_type": "code",
      "source": [
        "# Q22) Create a code that prompts the user to enter two sets of integers separated by commas. Then, print the intersection of these two sets.\n",
        "# Prompt user for input and split the input by commas to get list of numbers\n",
        "set1_input = input(\"Enter the first set of integers, separated by commas: \")\n",
        "set2_input = input(\"Enter the second set of integers, separated by commas: \")\n",
        "\n",
        "# Convert input strings to lists of integers\n",
        "set1_list = [int(x) for x in set1_input.split(\",\")]\n",
        "set2_list = [int(x) for x in set2_input.split(\",\")]\n",
        "\n",
        "# Initialize an empty list for the intersection\n",
        "intersection = []\n",
        "\n",
        "# Find the intersection by iterating through both lists\n",
        "for num in set1_list:\n",
        "    if num in set2_list and num not in intersection:\n",
        "        intersection.append(num)\n",
        "\n",
        "# Print the intersection\n",
        "print(\"The intersection of the two sets is:\", intersection)"
      ],
      "metadata": {
        "colab": {
          "base_uri": "https://localhost:8080/"
        },
        "id": "4UuFHXLWx9QF",
        "outputId": "d3dbbcb9-85d4-49de-aecf-e22862a075ee"
      },
      "execution_count": 25,
      "outputs": [
        {
          "output_type": "stream",
          "name": "stdout",
          "text": [
            "Enter the first set of integers, separated by commas: 2,3,4,5,6\n",
            "Enter the second set of integers, separated by commas: 3,4,5,2,6\n",
            "The intersection of the two sets is: [2, 3, 4, 5, 6]\n"
          ]
        }
      ]
    },
    {
      "cell_type": "code",
      "source": [
        "# Q23) Write a code to concatenate two tuples. The function should take two tuples as input and return a new tuple containing elements from both input tuples\n",
        "def concatenate_tuples(tuple1, tuple2):\n",
        "\n",
        "    return tuple1 + tuple2\n",
        "\n",
        "# Example usage:\n",
        "tuple_a = (1, 2, 3)\n",
        "tuple_b = (4, 5, 6)\n",
        "result = concatenate_tuples(tuple_a, tuple_b)\n",
        "print(result)  # Output: (1, 2, 3, 4, 5, 6)"
      ],
      "metadata": {
        "colab": {
          "base_uri": "https://localhost:8080/"
        },
        "id": "IaWMoY5pyAhi",
        "outputId": "c9743bc3-d886-4422-8a49-5472a40f181c"
      },
      "execution_count": 26,
      "outputs": [
        {
          "output_type": "stream",
          "name": "stdout",
          "text": [
            "(1, 2, 3, 4, 5, 6)\n"
          ]
        }
      ]
    },
    {
      "cell_type": "code",
      "source": [
        "# Q24) Develop a code that prompts the user to input two sets of strings. Then, print the elements that are present in the first set but not in the second set.\n",
        "# Prompt the user to input two sets of strings\n",
        "first_set_input = input(\"Enter the elements of the first set, separated by spaces: \")\n",
        "second_set_input = input(\"Enter the elements of the second set, separated by spaces: \")\n",
        "\n",
        "# Split the input strings into lists of elements\n",
        "first_set_list = first_set_input.split()\n",
        "second_set_list = second_set_input.split()\n",
        "\n",
        "# Create empty lists to store unique elements\n",
        "unique_elements = []\n",
        "\n",
        "# Iterate over the first set and add elements to unique_elements if they are not in the second set\n",
        "for element in first_set_list:\n",
        "    if element not in second_set_list:\n",
        "        unique_elements.append(element)\n",
        "\n",
        "# Print the unique elements\n",
        "print(\"Elements in the first set but not in the second set:\")\n",
        "print(\" \".join(unique_elements))"
      ],
      "metadata": {
        "colab": {
          "base_uri": "https://localhost:8080/"
        },
        "id": "w0qvDXXNyHC5",
        "outputId": "9384cea5-ba5f-404a-e673-21f62da056aa"
      },
      "execution_count": 27,
      "outputs": [
        {
          "output_type": "stream",
          "name": "stdout",
          "text": [
            "Enter the elements of the first set, separated by spaces: 2 3 4 5 6 \n",
            "Enter the elements of the second set, separated by spaces: 4 3 5 4 5\n",
            "Elements in the first set but not in the second set:\n",
            "2 6\n"
          ]
        }
      ]
    },
    {
      "cell_type": "code",
      "source": [
        "# Q25) Create a code that takes a tuple and two integers as input. The function should return a new tuple containing elements from the original tuple within the specified range of indices.\n",
        "def slice_tuple(original_tuple, start_index, end_index):\n",
        "    # Create a new tuple containing elements from start_index to end_index (exclusive)\n",
        "    new_tuple = original_tuple[start_index:end_index]\n",
        "    return new_tuple\n",
        "\n",
        "# Example usage\n",
        "original_tuple = (1, 2, 3, 4, 5, 6, 7, 8, 9, 10)\n",
        "start_index = 2\n",
        "end_index = 7\n",
        "\n",
        "result = slice_tuple(original_tuple, start_index, end_index)\n",
        "print(result)  # Output: (3, 4, 5, 6, 7)"
      ],
      "metadata": {
        "colab": {
          "base_uri": "https://localhost:8080/"
        },
        "id": "4_Ts0zizyM4a",
        "outputId": "d627a36f-e83f-4d89-a449-3798604c0f47"
      },
      "execution_count": 28,
      "outputs": [
        {
          "output_type": "stream",
          "name": "stdout",
          "text": [
            "(3, 4, 5, 6, 7)\n"
          ]
        }
      ]
    },
    {
      "cell_type": "code",
      "source": [
        "# Q26) Write a code that prompts the user to input two sets of characters. Then, print the union of these two sets.\n",
        "c1=\"Welcome to\"\n",
        "c2=\"PWskills\"\n",
        "print(c1,c2)\n",
        "set1=set(c1.split())\n",
        "set2=set(c2.split())\n",
        "print(set1,set2)\n",
        "result= set1.union(set2)\n",
        "result"
      ],
      "metadata": {
        "colab": {
          "base_uri": "https://localhost:8080/"
        },
        "id": "_KeDTjwWyTth",
        "outputId": "5414f0dd-aaa5-4f1c-c399-bf886f7dbb1b"
      },
      "execution_count": 29,
      "outputs": [
        {
          "output_type": "stream",
          "name": "stdout",
          "text": [
            "Welcome to PWskills\n",
            "{'to', 'Welcome'} {'PWskills'}\n"
          ]
        },
        {
          "output_type": "execute_result",
          "data": {
            "text/plain": [
              "{'PWskills', 'Welcome', 'to'}"
            ]
          },
          "metadata": {},
          "execution_count": 29
        }
      ]
    },
    {
      "cell_type": "code",
      "source": [
        "# Q27) Develop a code that takes a tuple of integers as input. The function should return the maximum and minimum values from the tuple using tuple unpacking.\n",
        "def find_max_min(numbers):\n",
        "    # Initialize max and min with the first element of the tuple\n",
        "    max_value, min_value = numbers[0], numbers[0]\n",
        "\n",
        "    # Iterate over the tuple starting from the second element\n",
        "    for number in numbers[1:]:\n",
        "        # Update max_value and min_value if necessary\n",
        "        if number > max_value:\n",
        "            max_value = number\n",
        "        if number < min_value:\n",
        "            min_value = number\n",
        "\n",
        "    # Return max and min values using tuple unpacking\n",
        "    return (max_value, min_value)\n",
        "\n",
        "# Example usage\n",
        "numbers_tuple = (3, 1, 4, 1, 5, 9, 2, 6, 5, 3, 5)\n",
        "max_value, min_value = find_max_min(numbers_tuple)\n",
        "\n",
        "print(\"Maximum value:\", max_value)\n",
        "print(\"Minimum value:\", min_value)"
      ],
      "metadata": {
        "colab": {
          "base_uri": "https://localhost:8080/"
        },
        "id": "wtIbx1l3yZLG",
        "outputId": "c955e777-7a9c-4c73-d4a4-f57c43f79d0d"
      },
      "execution_count": 30,
      "outputs": [
        {
          "output_type": "stream",
          "name": "stdout",
          "text": [
            "Maximum value: 9\n",
            "Minimum value: 1\n"
          ]
        }
      ]
    },
    {
      "cell_type": "code",
      "source": [
        "# Q28) Create a code that defines two sets of integers. Then, print the union, intersection, and difference of these two sets.\n",
        "s1={10,11,12,13,15}\n",
        "s2={11,12,16,17,18}\n",
        "print(s1,s2)\n",
        "print(s1.union(s2))\n",
        "print(s1.intersection(s2))\n",
        "print(s1.difference(s2))"
      ],
      "metadata": {
        "colab": {
          "base_uri": "https://localhost:8080/"
        },
        "id": "4vIdSvvuyiT5",
        "outputId": "0cc64bc6-7b85-4729-8518-106d9a17f4e9"
      },
      "execution_count": 31,
      "outputs": [
        {
          "output_type": "stream",
          "name": "stdout",
          "text": [
            "{10, 11, 12, 13, 15} {16, 17, 18, 11, 12}\n",
            "{10, 11, 12, 13, 15, 16, 17, 18}\n",
            "{11, 12}\n",
            "{10, 13, 15}\n"
          ]
        }
      ]
    },
    {
      "cell_type": "code",
      "source": [
        "# 29) Write a code that takes a tuple and an element as input. The function should return the count of occurrences of the given element in the tuple.\n",
        "tup=(11,12,12,12,13,13,14)\n",
        "tup.count(12)"
      ],
      "metadata": {
        "colab": {
          "base_uri": "https://localhost:8080/"
        },
        "id": "OzxMJcQHylyw",
        "outputId": "5c43cfc9-23c8-4784-f5d5-1bcf1ea61191"
      },
      "execution_count": 32,
      "outputs": [
        {
          "output_type": "execute_result",
          "data": {
            "text/plain": [
              "3"
            ]
          },
          "metadata": {},
          "execution_count": 32
        }
      ]
    },
    {
      "cell_type": "code",
      "source": [
        "# Q30) Develop a code that prompts the user to input two sets of strings. Then, print the symmetric difference of these two sets.\n",
        "s1=\"PWskills\"\n",
        "s2=\"BYTE CLASS\"\n",
        "set1=set(s1.split())\n",
        "set2=set(s2.split())\n",
        "print(set1,set2)\n",
        "result=set1.symmetric_difference(set2)\n",
        "result"
      ],
      "metadata": {
        "colab": {
          "base_uri": "https://localhost:8080/"
        },
        "id": "LZoCQmqCypoo",
        "outputId": "aef4ff18-5841-41e3-cb75-f1cf6b779fd3"
      },
      "execution_count": 33,
      "outputs": [
        {
          "output_type": "stream",
          "name": "stdout",
          "text": [
            "{'PWskills'} {'CLASS', 'BYTE'}\n"
          ]
        },
        {
          "output_type": "execute_result",
          "data": {
            "text/plain": [
              "{'BYTE', 'CLASS', 'PWskills'}"
            ]
          },
          "metadata": {},
          "execution_count": 33
        }
      ]
    },
    {
      "cell_type": "code",
      "source": [
        "# Q31) Write a code that takes a list of words as input and returns a dictionary where the keys are unique words and the values are the frequencies of those words in the input list.\n",
        "def word_frequencies(word_list):\n",
        "    # Initialize an empty dictionary to store word frequencies\n",
        "    frequency_dict = {}\n",
        "\n",
        "    # Iterate over each word in the list\n",
        "    for word in word_list:\n",
        "        # If the word is already in the dictionary, increment its frequency\n",
        "        if word in frequency_dict:\n",
        "            frequency_dict[word] += 1\n",
        "        # If the word is not in the dictionary, add it with a frequency of 1\n",
        "        else:\n",
        "            frequency_dict[word] = 1\n",
        "\n",
        "    # Return the dictionary containing word frequencies\n",
        "    return frequency_dict\n",
        "\n",
        "# Example usage\n",
        "words = [\"apple\", \"banana\", \"apple\", \"orange\", \"banana\", \"apple\"]\n",
        "frequencies = word_frequencies(words)\n",
        "print(frequencies)"
      ],
      "metadata": {
        "colab": {
          "base_uri": "https://localhost:8080/"
        },
        "id": "b4mmGqj_yt23",
        "outputId": "18e4fad8-3ab6-4e28-83fb-e8161ea4d498"
      },
      "execution_count": 34,
      "outputs": [
        {
          "output_type": "stream",
          "name": "stdout",
          "text": [
            "{'apple': 3, 'banana': 2, 'orange': 1}\n"
          ]
        }
      ]
    },
    {
      "cell_type": "code",
      "source": [
        "# Q32) Write a code that takes two dictionaries as input and merges them into a single dictionary. If there are common keys, the values should be added together.\n",
        "def merge_dictionaries(dict1, dict2):\n",
        "    merged_dict = dict1.copy()\n",
        "\n",
        "    for key, value in dict2.items():\n",
        "        if key in merged_dict:\n",
        "            merged_dict[key] += value\n",
        "        else:\n",
        "            merged_dict[key] = value\n",
        "\n",
        "    return merged_dict\n",
        "\n",
        "# Example usage:\n",
        "dict1 = {'a': 1, 'b': 2, 'c': 3}\n",
        "dict2 = {'b': 3, 'c': 4, 'd': 5}\n",
        "\n",
        "result = merge_dictionaries(dict1, dict2)\n",
        "print(result)"
      ],
      "metadata": {
        "colab": {
          "base_uri": "https://localhost:8080/"
        },
        "id": "fqvZedAXywzw",
        "outputId": "17ff07a4-cde5-4c5d-db5e-7cb0c3acc1ac"
      },
      "execution_count": 35,
      "outputs": [
        {
          "output_type": "stream",
          "name": "stdout",
          "text": [
            "{'a': 1, 'b': 5, 'c': 7, 'd': 5}\n"
          ]
        }
      ]
    },
    {
      "cell_type": "code",
      "source": [
        "# Q33) Write a code to access a value in a nested dictionary. The function should take the dictionary and a list of keys as input, and return the corresponding value. If any of the keys do not exist in the dictionary, the function should return None.\n",
        "def get_nested_value(d, keys):\n",
        "    current_value = d\n",
        "    for key in keys:\n",
        "        if isinstance(current_value, dict) and key in current_value:\n",
        "            current_value = current_value[key]\n",
        "        else:\n",
        "            return None\n",
        "    return current_value\n",
        "\n",
        "# Example usage:\n",
        "nested_dict = {\n",
        "    'a': {\n",
        "        'b': {\n",
        "            'c': 42\n",
        "        }\n",
        "    }\n",
        "}\n",
        "\n",
        "keys = ['a', 'b', 'c']\n",
        "value = get_nested_value(nested_dict, keys)\n",
        "print(value)\n",
        "\n",
        "keys = ['a', 'b', 'd']\n",
        "value = get_nested_value(nested_dict, keys)\n",
        "print(value)"
      ],
      "metadata": {
        "colab": {
          "base_uri": "https://localhost:8080/"
        },
        "id": "N-XrEJHhy0Cy",
        "outputId": "4024f1e3-f41c-4ef7-c34a-93f6b095db7f"
      },
      "execution_count": 36,
      "outputs": [
        {
          "output_type": "stream",
          "name": "stdout",
          "text": [
            "42\n",
            "None\n"
          ]
        }
      ]
    },
    {
      "cell_type": "code",
      "source": [
        "# Q34)Write a code that takes a dictionary as input and returns a sorted version of it based on the values. You can choose whether to sort in ascending or descending order.\n",
        "def sort_dict_by_values(d, descending=False):\n",
        "    # Sort the dictionary by its values\n",
        "    sorted_items = sorted(d.items(), key=lambda item: item[1], reverse=descending)\n",
        "    # Convert the sorted items back into a dictionary\n",
        "    sorted_dict = dict(sorted_items)\n",
        "    return sorted_dict\n",
        "\n",
        "# Example usage:\n",
        "my_dict = {'apple': 3, 'banana': 1, 'cherry': 2}\n",
        "\n",
        "# Sort in ascending order\n",
        "sorted_dict_asc = sort_dict_by_values(my_dict)\n",
        "print(sorted_dict_asc)\n",
        "\n",
        "# Sort in descending order\n",
        "sorted_dict_desc = sort_dict_by_values(my_dict, descending=True)\n",
        "print(sorted_dict_desc)"
      ],
      "metadata": {
        "colab": {
          "base_uri": "https://localhost:8080/"
        },
        "id": "Upc6OULBy4pI",
        "outputId": "485f892f-e9e1-4e0d-ddc6-1e06f5f41ded"
      },
      "execution_count": 37,
      "outputs": [
        {
          "output_type": "stream",
          "name": "stdout",
          "text": [
            "{'banana': 1, 'cherry': 2, 'apple': 3}\n",
            "{'apple': 3, 'cherry': 2, 'banana': 1}\n"
          ]
        }
      ]
    },
    {
      "cell_type": "code",
      "source": [
        "# Q35) Write a code that inverts a dictionary, swapping keys and values. Ensure that the inverted dictionary correctly handles cases where multiple keys have the same value by storing the keys as a list in the inverted dictionary.\n",
        "def invert_dictionary(d):\n",
        "    inverted_dict = {}\n",
        "    for key, value in d.items():\n",
        "        if value in inverted_dict:\n",
        "            inverted_dict[value].append(key)\n",
        "        else:\n",
        "            inverted_dict[value] = [key]\n",
        "    return inverted_dict\n",
        "\n",
        "# Example usage:\n",
        "original_dict = {'a': 1, 'b': 2, 'c': 1, 'd': 3}\n",
        "\n",
        "inverted_dict = invert_dictionary(original_dict)\n",
        "print(inverted_dict)"
      ],
      "metadata": {
        "colab": {
          "base_uri": "https://localhost:8080/"
        },
        "id": "DLaQ2ebfy7vA",
        "outputId": "0982137b-d56d-4080-bded-d8b47a1aef0a"
      },
      "execution_count": 38,
      "outputs": [
        {
          "output_type": "stream",
          "name": "stdout",
          "text": [
            "{1: ['a', 'c'], 2: ['b'], 3: ['d']}\n"
          ]
        }
      ]
    },
    {
      "cell_type": "code",
      "source": [],
      "metadata": {
        "id": "6oOArhney-VQ"
      },
      "execution_count": null,
      "outputs": []
    }
  ]
}